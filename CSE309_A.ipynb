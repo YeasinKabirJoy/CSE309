{
  "nbformat": 4,
  "nbformat_minor": 0,
  "metadata": {
    "colab": {
      "name": "CSE309_A.ipynb",
      "provenance": [],
      "authorship_tag": "ABX9TyPQe/xgzVkjaM0itrS+Tjxl",
      "include_colab_link": true
    },
    "kernelspec": {
      "name": "python3",
      "display_name": "Python 3"
    }
  },
  "cells": [
    {
      "cell_type": "markdown",
      "metadata": {
        "id": "view-in-github",
        "colab_type": "text"
      },
      "source": [
        "<a href=\"https://colab.research.google.com/github/YeasinKabirJoy/CSE309/blob/master/CSE309_A.ipynb\" target=\"_parent\"><img src=\"https://colab.research.google.com/assets/colab-badge.svg\" alt=\"Open In Colab\"/></a>"
      ]
    },
    {
      "cell_type": "code",
      "metadata": {
        "id": "-Grxt--rnkbR",
        "colab_type": "code",
        "colab": {
          "base_uri": "https://localhost:8080/",
          "height": 90
        },
        "outputId": "af52c7e7-dff0-4264-b2d3-f1ef1f7a2ab7"
      },
      "source": [
        "start_point =int(input())\n",
        "end_point=int(input())\n",
        "i=start_point\n",
        "sum=0\n",
        "while(i<end_point+1):\n",
        "  if(i%2==0):\n",
        "    sum+=i\n",
        "    if(i!=end_point):\n",
        "      print(i,\"+\",end=\" \")\n",
        "    else:\n",
        "      print(i,\"+\")\n",
        "  i+=1\n",
        "\n",
        "\n",
        "print(\"=\"sum)"
      ],
      "execution_count": 1,
      "outputs": [
        {
          "output_type": "stream",
          "text": [
            "10\n",
            "20\n",
            "10 + 12 + 14 + 16 + 18 + 20 +\n",
            "90\n"
          ],
          "name": "stdout"
        }
      ]
    }
  ]
}